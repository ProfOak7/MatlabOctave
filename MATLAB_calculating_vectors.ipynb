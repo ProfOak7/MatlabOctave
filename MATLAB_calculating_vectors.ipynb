{
 "cells": [
  {
   "cell_type": "markdown",
   "id": "0ecc900a-9fba-48fe-bbdf-ae1675376866",
   "metadata": {},
   "source": [
    "#### MATLAB as a calculator"
   ]
  },
  {
   "cell_type": "code",
   "execution_count": 1,
   "id": "1ee2c974-9f53-474f-bb84-bc2d33d5a89e",
   "metadata": {},
   "outputs": [
    {
     "name": "stdout",
     "output_type": "stream",
     "text": [
      "\n",
      "x =\n",
      "\n",
      "    1.5708\n",
      "\n",
      "\n"
     ]
    }
   ],
   "source": [
    "x = pi/2"
   ]
  },
  {
   "cell_type": "code",
   "execution_count": 7,
   "id": "301bafab-5b88-4ea0-849f-f2cf5ec5ad46",
   "metadata": {},
   "outputs": [
    {
     "name": "stdout",
     "output_type": "stream",
     "text": [
      "\n",
      "x1 =\n",
      "\n",
      "    1.1196\n",
      "\n",
      "\n"
     ]
    }
   ],
   "source": [
    "a = 3;\n",
    "b = 2;\n",
    "c = -6;\n",
    "x1 = (-b+sqrt(b^2-4*a*c))/(2*a)"
   ]
  },
  {
   "cell_type": "code",
   "execution_count": 8,
   "id": "88dbbdfa-cfcd-487d-b5d5-fca6ef2e32d1",
   "metadata": {},
   "outputs": [
    {
     "name": "stdout",
     "output_type": "stream",
     "text": [
      "\n",
      "x2 =\n",
      "\n",
      "   -1.7863\n",
      "\n",
      "\n"
     ]
    }
   ],
   "source": [
    "x2 = (-b-sqrt(b^2-4*a*c))/(2*a)"
   ]
  },
  {
   "cell_type": "markdown",
   "id": "c4737c1a-380f-4aec-922a-0d3de33ccd8d",
   "metadata": {},
   "source": [
    "#### Calculations with vectors"
   ]
  },
  {
   "cell_type": "code",
   "execution_count": 12,
   "id": "c05ab568-cf06-40bc-88d4-bb23816ffca5",
   "metadata": {
    "scrolled": true
   },
   "outputs": [
    {
     "name": "stdout",
     "output_type": "stream",
     "text": [
      "\n",
      "x =\n",
      "\n",
      "    -2    -1     0     1     2\n",
      "\n",
      "\n",
      "y =\n",
      "\n",
      "     2    -5    -6    -1    10\n",
      "\n",
      "\n"
     ]
    },
    {
     "data": {
      "image/png": "[encoded data removed]",
      "text/plain": [
       "<IPython.core.display.Image object>"
      ]
     },
     "metadata": {},
     "output_type": "display_data"
    }
   ],
   "source": [
    "x = [-2,-1,0,1,2]\n",
    "y = [2,-5,-6,-1,10]\n",
    "plot(x,y)"
   ]
  },
  {
   "cell_type": "markdown",
   "id": "02aa855f-4f96-445b-9d32-e2d4a2a31093",
   "metadata": {},
   "source": [
    "#### But what if we want a smoother function?"
   ]
  },
  {
   "cell_type": "code",
   "execution_count": 40,
   "id": "7274e47f-5091-4ced-a4fa-3216f92bff34",
   "metadata": {},
   "outputs": [
    {
     "name": "stdout",
     "output_type": "stream",
     "text": [
      "\n",
      "x =\n",
      "\n",
      "  Columns 1 through 16\n",
      "\n",
      "   -2.0000   -1.9000   -1.8000   -1.7000   -1.6000   -1.5000   -1.4000   -1.3000   -1.2000   -1.1000   -1.0000   -0.9000   -0.8000   -0.7000   -0.6000   -0.5000\n",
      "\n",
      "  Columns 17 through 32\n",
      "\n",
      "   -0.4000   -0.3000   -0.2000   -0.1000         0    0.1000    0.2000    0.3000    0.4000    0.5000    0.6000    0.7000    0.8000    0.9000    1.0000    1.1000\n",
      "\n",
      "  Columns 33 through 41\n",
      "\n",
      "    1.2000    1.3000    1.4000    1.5000    1.6000    1.7000    1.8000    1.9000    2.0000\n",
      "\n",
      "\n"
     ]
    }
   ],
   "source": [
    "x = -2:0.1:2"
   ]
  },
  {
   "cell_type": "markdown",
   "id": "a8922c91-2182-4b3a-8725-663ee8122fb8",
   "metadata": {},
   "source": [
    "#### Element-wise operations can be used to multiple, divide, or exponentiation of vectors\n",
    "#### .*\n",
    "#### ./\n",
    "#### .^"
   ]
  },
  {
   "cell_type": "code",
   "execution_count": 29,
   "id": "768cd6f2-ad8b-49b9-b15b-971fbb8c29c9",
   "metadata": {},
   "outputs": [
    {
     "name": "stdout",
     "output_type": "stream",
     "text": [
      "\n",
      "v1 =\n",
      "\n",
      "     1     2     3     4\n",
      "\n",
      "\n",
      "v2 =\n",
      "\n",
      "     2     4     6     8\n",
      "\n",
      "\n"
     ]
    }
   ],
   "source": [
    "v1 = [1,2,3,4]\n",
    "v2 = [2,4,6,8]"
   ]
  },
  {
   "cell_type": "code",
   "execution_count": 30,
   "id": "cda20d4a-66d9-40d4-8b8e-c50d40efdaf3",
   "metadata": {},
   "outputs": [
    {
     "name": "stdout",
     "output_type": "stream",
     "text": [
      "\n",
      "ans =\n",
      "\n",
      "     2     8    18    32\n",
      "\n",
      "\n"
     ]
    }
   ],
   "source": [
    "v1 .* v2"
   ]
  },
  {
   "cell_type": "code",
   "execution_count": 31,
   "id": "dcea83c8-e2f8-4abb-8744-213b77981f71",
   "metadata": {},
   "outputs": [
    {
     "name": "stdout",
     "output_type": "stream",
     "text": [
      "\n",
      "ans =\n",
      "\n",
      "    0.5000    0.5000    0.5000    0.5000\n",
      "\n",
      "\n"
     ]
    }
   ],
   "source": [
    "v1 ./ v2"
   ]
  },
  {
   "cell_type": "code",
   "execution_count": 32,
   "id": "7c5f30ab-1030-4896-8c1a-8a77e90a2169",
   "metadata": {},
   "outputs": [
    {
     "name": "stdout",
     "output_type": "stream",
     "text": [
      "\n",
      "ans =\n",
      "\n",
      "           1          16         729       65536\n",
      "\n",
      "\n"
     ]
    }
   ],
   "source": [
    "v1 .^ v2"
   ]
  },
  {
   "cell_type": "markdown",
   "id": "6cc89a14-24a4-406c-ab05-fb60c389179a",
   "metadata": {},
   "source": [
    "#### Now we can use our element-wise operation to calculate for y"
   ]
  },
  {
   "cell_type": "code",
   "execution_count": 41,
   "id": "7b504443-f17c-43a2-a263-4f3e048e85e1",
   "metadata": {
    "jupyter": {
     "source_hidden": true
    }
   },
   "outputs": [
    {
     "name": "stdout",
     "output_type": "stream",
     "text": [
      "\n",
      "x =\n",
      "\n",
      "  Columns 1 through 16\n",
      "\n",
      "   -2.0000   -1.9000   -1.8000   -1.7000   -1.6000   -1.5000   -1.4000   -1.3000   -1.2000   -1.1000   -1.0000   -0.9000   -0.8000   -0.7000   -0.6000   -0.5000\n",
      "\n",
      "  Columns 17 through 32\n",
      "\n",
      "   -0.4000   -0.3000   -0.2000   -0.1000         0    0.1000    0.2000    0.3000    0.4000    0.5000    0.6000    0.7000    0.8000    0.9000    1.0000    1.1000\n",
      "\n",
      "  Columns 33 through 41\n",
      "\n",
      "    1.2000    1.3000    1.4000    1.5000    1.6000    1.7000    1.8000    1.9000    2.0000\n",
      "\n",
      "\n"
     ]
    },
    {
     "data": {
      "image/png": "[encoded data removed]",
      "text/plain": [
       "<IPython.core.display.Image object>"
      ]
     },
     "metadata": {},
     "output_type": "display_data"
    }
   ],
   "source": [
    "x = -2:0.1:2\n",
    "y = 3*x.^2 + 2*x - 6;\n",
    "plot(x,y)"
   ]
  },
  {
   "cell_type": "code",
   "execution_count": null,
   "id": "b2fe3e48-bc32-4353-ac96-0c8ed6b3532a",
   "metadata": {},
   "outputs": [],
   "source": []
  }
 ],
 "metadata": {
  "kernelspec": {
   "display_name": "Matlab",
   "language": "matlab",
   "name": "matlab"
  },
  "language_info": {
   "codemirror_mode": "octave",
   "file_extension": ".m",
   "help_links": [
    {
     "text": "MetaKernel Magics",
     "url": "https://metakernel.readthedocs.io/en/latest/source/README.html"
    }
   ],
   "mimetype": "text/x-octave",
   "name": "matlab",
   "version": "0.17.1"
  }
 },
 "nbformat": 4,
 "nbformat_minor": 5
}
