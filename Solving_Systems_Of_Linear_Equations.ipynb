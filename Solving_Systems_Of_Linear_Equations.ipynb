{
 "cells": [
  {
   "cell_type": "markdown",
   "id": "fd9ca4a7-d364-4d3f-a187-bd5182b64000",
   "metadata": {},
   "source": [
    "## Solving Systems of Linear Equations"
   ]
  },
  {
   "cell_type": "markdown",
   "id": "6836b955-e142-4392-b214-afa13bd0cbb7",
   "metadata": {},
   "source": [
    "#### You can create matrices to represent the unknown variable coefficients (vector A), the constants (vector b), and than solve for the vector of unknown variables (x)"
   ]
  },
  {
   "cell_type": "code",
   "execution_count": 7,
   "id": "36eaf431-edb9-404c-90ef-94382675fa7b",
   "metadata": {},
   "outputs": [
    {
     "name": "stdout",
     "output_type": "stream",
     "text": [
      "\n",
      "A =\n",
      "\n",
      "    1.5000    1.0000         0\n",
      "         0   -4.0000    1.0000\n",
      "   -1.0000    1.0000   -1.0000\n",
      "\n",
      "\n"
     ]
    }
   ],
   "source": [
    "A = [1.5,1,0;0,-4,1;-1,1,-1]"
   ]
  },
  {
   "cell_type": "code",
   "execution_count": 8,
   "id": "3b49d6b6-84e4-4827-9c98-f33d0b051be9",
   "metadata": {},
   "outputs": [
    {
     "name": "stdout",
     "output_type": "stream",
     "text": [
      "\n",
      "b =\n",
      "\n",
      "     3\n",
      "     0\n",
      "    -4\n",
      "\n",
      "\n"
     ]
    }
   ],
   "source": [
    "b = [3;0;-4]"
   ]
  },
  {
   "cell_type": "code",
   "execution_count": 9,
   "id": "e313ce62-8d95-4574-addc-ac3cca3b69a9",
   "metadata": {},
   "outputs": [
    {
     "name": "stdout",
     "output_type": "stream",
     "text": [
      "\n",
      "x =\n",
      "\n",
      "    1.4286\n",
      "    0.8571\n",
      "    3.4286\n",
      "\n",
      "\n"
     ]
    }
   ],
   "source": [
    "x = A\\b"
   ]
  },
  {
   "cell_type": "code",
   "execution_count": null,
   "id": "fbdfed30-129c-40ae-bf95-62385f61b141",
   "metadata": {},
   "outputs": [],
   "source": []
  }
 ],
 "metadata": {
  "kernelspec": {
   "display_name": "Matlab",
   "language": "matlab",
   "name": "matlab"
  },
  "language_info": {
   "codemirror_mode": "octave",
   "file_extension": ".m",
   "help_links": [
    {
     "text": "MetaKernel Magics",
     "url": "https://metakernel.readthedocs.io/en/latest/source/README.html"
    }
   ],
   "mimetype": "text/x-octave",
   "name": "matlab",
   "version": "0.17.1"
  }
 },
 "nbformat": 4,
 "nbformat_minor": 5
}
