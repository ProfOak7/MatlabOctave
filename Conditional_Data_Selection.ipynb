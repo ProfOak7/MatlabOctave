{
 "cells": [
  {
   "cell_type": "markdown",
   "id": "c031f084-4352-4443-b6cc-c706690d8e76",
   "metadata": {},
   "source": [
    "### Conditional Data Selection"
   ]
  },
  {
   "cell_type": "markdown",
   "id": "768ac345-f14e-44b8-a4aa-0ad9358ec213",
   "metadata": {},
   "source": [
    "Consider an array v, which contains a value of a signal:"
   ]
  },
  {
   "cell_type": "code",
   "execution_count": 6,
   "id": "9d0d3a27-13e4-4fc6-8d22-6a43a6b5a192",
   "metadata": {},
   "outputs": [
    {
     "name": "stdout",
     "output_type": "stream",
     "text": [
      "\n",
      "v =\n",
      "\n",
      "    0.0010\n",
      "    0.5000\n",
      "    6.5000\n",
      "   10.5000\n",
      "    0.0020\n",
      "    7.1000\n",
      "   -4.8000\n",
      "\n",
      "\n"
     ]
    }
   ],
   "source": [
    "v = [0.001;0.5;6.5;10.5;0.002;7.1;-4.8]"
   ]
  },
  {
   "cell_type": "markdown",
   "id": "535f7769-f1fe-465f-a7d5-3df5641e4a4a",
   "metadata": {},
   "source": [
    "#### Let us look how we can extract elements of v that are less than 0.005\n"
   ]
  },
  {
   "cell_type": "code",
   "execution_count": 7,
   "id": "db5bb73e-009f-42d0-9a5a-cbfce5988d4a",
   "metadata": {},
   "outputs": [
    {
     "name": "stdout",
     "output_type": "stream",
     "text": [
      "\n",
      "I =\n",
      "\n",
      "  7x1 logical array\n",
      "\n",
      "   1\n",
      "   0\n",
      "   0\n",
      "   0\n",
      "   1\n",
      "   0\n",
      "   1\n",
      "\n",
      "\n"
     ]
    }
   ],
   "source": [
    "I = v < 0.005"
   ]
  },
  {
   "cell_type": "markdown",
   "id": "7ecaee0f-6172-436c-9d6f-fb2b7a627ae8",
   "metadata": {},
   "source": [
    "#### This gave us a logical array where every element is either true or false... If we want the actual values extracted, we can now use I to extract from v, only where I is true:"
   ]
  },
  {
   "cell_type": "code",
   "execution_count": 11,
   "id": "76e15812-ba9d-4036-8d23-289a0fae8831",
   "metadata": {},
   "outputs": [
    {
     "name": "stdout",
     "output_type": "stream",
     "text": [
      "\n",
      "r =\n",
      "\n",
      "    0.0010\n",
      "    0.0020\n",
      "   -4.8000\n",
      "\n",
      "\n"
     ]
    }
   ],
   "source": [
    "r = v(I)"
   ]
  },
  {
   "cell_type": "markdown",
   "id": "a272c810-d443-4e37-934b-913a0e101915",
   "metadata": {},
   "source": [
    "#### Perhaps we want to modify the values where I is true... Maybe we want to change those values to 0."
   ]
  },
  {
   "cell_type": "code",
   "execution_count": 14,
   "id": "e4cb1409-402a-4660-a169-1fb6c88bf5ae",
   "metadata": {},
   "outputs": [
    {
     "name": "stdout",
     "output_type": "stream",
     "text": [
      "\n",
      "v =\n",
      "\n",
      "         0\n",
      "    0.5000\n",
      "    6.5000\n",
      "   10.5000\n",
      "         0\n",
      "    7.1000\n",
      "         0\n",
      "\n",
      "\n"
     ]
    }
   ],
   "source": [
    "v(I) = 0"
   ]
  },
  {
   "cell_type": "code",
   "execution_count": null,
   "id": "b6d5c358-2a9f-4606-9196-58fdb3051cf3",
   "metadata": {},
   "outputs": [],
   "source": []
  }
 ],
 "metadata": {
  "kernelspec": {
   "display_name": "Matlab",
   "language": "matlab",
   "name": "matlab"
  },
  "language_info": {
   "codemirror_mode": "octave",
   "file_extension": ".m",
   "help_links": [
    {
     "text": "MetaKernel Magics",
     "url": "https://metakernel.readthedocs.io/en/latest/source/README.html"
    }
   ],
   "mimetype": "text/x-octave",
   "name": "matlab",
   "version": "0.17.1"
  }
 },
 "nbformat": 4,
 "nbformat_minor": 5
}
