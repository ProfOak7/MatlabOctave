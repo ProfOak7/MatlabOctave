{
 "cells": [
  {
   "cell_type": "markdown",
   "id": "fb39ca49-37af-4e3f-a61e-4ca21f6277af",
   "metadata": {},
   "source": [
    "### Logical Operators"
   ]
  },
  {
   "cell_type": "markdown",
   "id": "c6c6b109-6f69-45c6-9926-5952fe0e53ff",
   "metadata": {},
   "source": [
    "#### You can ask questions and receive an answer of whether or not it is true (1) or false (0)"
   ]
  },
  {
   "cell_type": "code",
   "execution_count": 9,
   "id": "3a8aad01-7d26-4263-9662-d84d9c78c053",
   "metadata": {},
   "outputs": [
    {
     "name": "stdout",
     "output_type": "stream",
     "text": [
      "\n",
      "a =\n",
      "\n",
      "     4\n",
      "\n",
      "\n"
     ]
    }
   ],
   "source": [
    "a = 4"
   ]
  },
  {
   "cell_type": "markdown",
   "id": "16d5339d-9783-4113-83d4-4ae9e0621232",
   "metadata": {},
   "source": [
    "### For example, you can ask: Is a > 3?\n",
    "P\n",
    "    Logical\n",
    "    true 1\n",
    "    false 0"
   ]
  },
  {
   "cell_type": "code",
   "execution_count": 4,
   "id": "51042f3a-a883-4dde-bd0b-55c861bdb0a1",
   "metadata": {},
   "outputs": [
    {
     "name": "stdout",
     "output_type": "stream",
     "text": [
      "\n",
      "r =\n",
      "\n",
      "  logical\n",
      "\n",
      "   1\n",
      "\n",
      "\n"
     ]
    }
   ],
   "source": [
    "r = a > 3"
   ]
  },
  {
   "cell_type": "markdown",
   "id": "e1f11d63-740c-4513-abb9-7e78aa6ac14f",
   "metadata": {
    "collapsed": true,
    "jupyter": {
     "outputs_hidden": true
    }
   },
   "source": [
    "### Is a > 3 and < 10?"
   ]
  },
  {
   "cell_type": "code",
   "execution_count": 7,
   "id": "97bf408d-8f29-4150-be01-865207269717",
   "metadata": {},
   "outputs": [
    {
     "name": "stdout",
     "output_type": "stream",
     "text": [
      "\n",
      "r =\n",
      "\n",
      "  logical\n",
      "\n",
      "   1\n",
      "\n",
      "\n"
     ]
    }
   ],
   "source": [
    "r = a > 3 & a < 10"
   ]
  },
  {
   "cell_type": "code",
   "execution_count": null,
   "id": "dc36ccde-6c69-4aa4-ab78-a310e0b91825",
   "metadata": {},
   "outputs": [],
   "source": []
  }
 ],
 "metadata": {
  "kernelspec": {
   "display_name": "Matlab",
   "language": "matlab",
   "name": "matlab"
  },
  "language_info": {
   "codemirror_mode": "octave",
   "file_extension": ".m",
   "help_links": [
    {
     "text": "MetaKernel Magics",
     "url": "https://metakernel.readthedocs.io/en/latest/source/README.html"
    }
   ],
   "mimetype": "text/x-octave",
   "name": "matlab",
   "version": "0.17.1"
  }
 },
 "nbformat": 4,
 "nbformat_minor": 5
}
