{
 "cells": [
  {
   "cell_type": "markdown",
   "id": "c3b8f869-345c-4392-926a-4836e5f514af",
   "metadata": {},
   "source": [
    "#### Matrices contain both rows and columns"
   ]
  },
  {
   "cell_type": "code",
   "execution_count": 4,
   "id": "a2542c21-1ed1-47b9-8fdc-522a431d1578",
   "metadata": {},
   "outputs": [
    {
     "name": "stdout",
     "output_type": "stream",
     "text": [
      "\n",
      "M =\n",
      "\n",
      "     1     2     3\n",
      "     4     5     6\n",
      "     7     8     9\n",
      "\n",
      "\n"
     ]
    }
   ],
   "source": [
    "%Notice that the rows are separated by a semicolon\n",
    "M = [1,2,3;4,5,6;7,8,9]"
   ]
  },
  {
   "cell_type": "code",
   "execution_count": 4,
   "id": "5090d65f-98f8-4841-8d3f-4cee94a47ec4",
   "metadata": {},
   "outputs": [
    {
     "name": "stdout",
     "output_type": "stream",
     "text": [
      "\n",
      "A =\n",
      "\n",
      "     1     2     3\n",
      "     3     4     5\n",
      "\n",
      "\n"
     ]
    }
   ],
   "source": [
    "A = [1,2,3;3,4,5]"
   ]
  },
  {
   "cell_type": "markdown",
   "id": "6be18818-d868-458a-badf-b6157d779375",
   "metadata": {},
   "source": [
    "#### Matrix Multiplication"
   ]
  },
  {
   "cell_type": "markdown",
   "id": "b0ff616f-4126-4e0a-b0e9-b963a7a0a94f",
   "metadata": {},
   "source": [
    "##### Remember that in matrix multiplication the row row is multiplied by the column, starting with the first row... Then the next row... etc"
   ]
  },
  {
   "cell_type": "code",
   "execution_count": 10,
   "id": "3a6aa04c-0990-4488-ae0b-9ef3639807d0",
   "metadata": {},
   "outputs": [
    {
     "name": "stdout",
     "output_type": "stream",
     "text": [
      "\n",
      "A =\n",
      "\n",
      "     1     2     3     4\n",
      "\n",
      "\n",
      "B =\n",
      "\n",
      "     1\n",
      "     2\n",
      "     3\n",
      "     4\n",
      "\n",
      "\n",
      "ans =\n",
      "\n",
      "    30\n",
      "\n",
      "\n"
     ]
    }
   ],
   "source": [
    "A = [1,2,3,4]\n",
    "B = [1;2;3;4]\n",
    "A*B"
   ]
  },
  {
   "cell_type": "code",
   "execution_count": 11,
   "id": "b8ec3b05-72f1-4930-96ec-b718c721b5bb",
   "metadata": {},
   "outputs": [
    {
     "name": "stdout",
     "output_type": "stream",
     "text": [
      "\n",
      "C =\n",
      "\n",
      "     1     2     3     4\n",
      "     5     6     7     8\n",
      "\n",
      "\n",
      "B =\n",
      "\n",
      "     1\n",
      "     2\n",
      "     3\n",
      "     4\n",
      "\n",
      "\n",
      "ans =\n",
      "\n",
      "    30\n",
      "    70\n",
      "\n",
      "\n"
     ]
    }
   ],
   "source": [
    "C = [1,2,3,4;5,6,7,8]\n",
    "B = [1;2;3;4]\n",
    "C*B"
   ]
  },
  {
   "cell_type": "code",
   "execution_count": null,
   "id": "fb4b85e5-f29b-4d57-b7bc-6e4f31fca41d",
   "metadata": {},
   "outputs": [],
   "source": []
  }
 ],
 "metadata": {
  "kernelspec": {
   "display_name": "Matlab",
   "language": "matlab",
   "name": "matlab"
  },
  "language_info": {
   "codemirror_mode": "octave",
   "file_extension": ".m",
   "help_links": [
    {
     "text": "MetaKernel Magics",
     "url": "https://metakernel.readthedocs.io/en/latest/source/README.html"
    }
   ],
   "mimetype": "text/x-octave",
   "name": "matlab",
   "version": "0.17.1"
  }
 },
 "nbformat": 4,
 "nbformat_minor": 5
}
