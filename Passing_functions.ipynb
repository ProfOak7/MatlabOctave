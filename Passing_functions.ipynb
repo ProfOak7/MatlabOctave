{
 "cells": [
  {
   "cell_type": "markdown",
   "id": "b259cc4d-6869-4eb0-bce5-3e373fa30b1e",
   "metadata": {},
   "source": [
    "## Passing functions"
   ]
  },
  {
   "cell_type": "markdown",
   "id": "6505adb2-da3b-4519-bdc0-728feaa7f376",
   "metadata": {},
   "source": [
    "define a function handle as follows:\n",
    "##\n",
    "fHandle = @(arg1,) FunctionDefinition"
   ]
  },
  {
   "cell_type": "code",
   "execution_count": 4,
   "id": "084f2062-8ead-4728-8b3d-ecf3837ebe58",
   "metadata": {},
   "outputs": [
    {
     "name": "stdout",
     "output_type": "stream",
     "text": [
      "\n"
     ]
    }
   ],
   "source": []
  },
  {
   "cell_type": "code",
   "execution_count": 12,
   "id": "1bdc3738-7bd8-4e46-aca2-e498e89548a4",
   "metadata": {},
   "outputs": [
    {
     "name": "stdout",
     "output_type": "stream",
     "text": [
      "\n",
      "xmin =\n",
      "\n",
      "    3.1416\n",
      "\n",
      "\n"
     ]
    }
   ],
   "source": [
    "fHandle = @(x) cos(x);\n",
    "x0 = 3;\n",
    "%now we can call the function handle, which references the function cos(x)\n",
    "xmin = fminsearch(fHandle, x0)"
   ]
  },
  {
   "cell_type": "code",
   "execution_count": 13,
   "id": "cdd5db1a-ef8e-4dd7-81ce-40bece705da4",
   "metadata": {},
   "outputs": [
    {
     "name": "stdout",
     "output_type": "stream",
     "text": [
      "\n",
      "ans =\n",
      "\n",
      "   -1.0000\n",
      "\n",
      "\n"
     ]
    }
   ],
   "source": [
    "%Function handles can also be called in the same way as functions\n",
    "fHandle(xmin)"
   ]
  },
  {
   "cell_type": "code",
   "execution_count": null,
   "id": "d083ffc1-62e7-4be1-9faa-19bbbe5bd47c",
   "metadata": {},
   "outputs": [],
   "source": []
  }
 ],
 "metadata": {
  "kernelspec": {
   "display_name": "Matlab",
   "language": "matlab",
   "name": "matlab"
  },
  "language_info": {
   "codemirror_mode": "octave",
   "file_extension": ".m",
   "help_links": [
    {
     "text": "MetaKernel Magics",
     "url": "https://metakernel.readthedocs.io/en/latest/source/README.html"
    }
   ],
   "mimetype": "text/x-octave",
   "name": "matlab",
   "version": "0.17.1"
  }
 },
 "nbformat": 4,
 "nbformat_minor": 5
}
