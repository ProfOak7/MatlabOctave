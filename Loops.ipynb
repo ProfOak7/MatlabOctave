{
 "cells": [
  {
   "cell_type": "markdown",
   "id": "c22fb143-a6df-4109-9049-2c503b63fc57",
   "metadata": {},
   "source": [
    "## For loops"
   ]
  },
  {
   "cell_type": "code",
   "execution_count": 1,
   "id": "265cf3a1-8970-4414-bb01-185a5d0c4619",
   "metadata": {
    "jp-MarkdownHeadingCollapsed": true
   },
   "outputs": [
    {
     "name": "stdout",
     "output_type": "stream",
     "text": [
      "\n",
      "x =\n",
      "\n",
      "     1\n",
      "\n",
      "\n"
     ]
    }
   ],
   "source": [
    "x(1) = 1;\n",
    "x"
   ]
  },
  {
   "cell_type": "code",
   "execution_count": 2,
   "id": "0e01bd68-58d6-46ae-a332-098771aae85c",
   "metadata": {},
   "outputs": [
    {
     "name": "stdout",
     "output_type": "stream",
     "text": [
      "\n",
      "x =\n",
      "\n",
      "     1     0     0     0     1\n",
      "\n",
      "\n"
     ]
    }
   ],
   "source": [
    "x(5) = 1;\n",
    "x"
   ]
  },
  {
   "cell_type": "code",
   "execution_count": 3,
   "id": "61c265ae-e5e8-4bb5-b898-9e9e14b7ce15",
   "metadata": {},
   "outputs": [
    {
     "name": "stdout",
     "output_type": "stream",
     "text": [
      "\n",
      "y =\n",
      "\n",
      "    1.0000    0.9000\n",
      "\n",
      "\n",
      "y =\n",
      "\n",
      "    1.0000    0.9000    0.8100\n",
      "\n",
      "\n",
      "y =\n",
      "\n",
      "    1.0000    0.9000    0.8100    0.7290\n",
      "\n",
      "\n",
      "y =\n",
      "\n",
      "    1.0000    0.9000    0.8100    0.7290    0.6561\n",
      "\n",
      "\n",
      "y =\n",
      "\n",
      "    1.0000    0.9000    0.8100    0.7290    0.6561    0.5905\n",
      "\n",
      "\n",
      "y =\n",
      "\n",
      "    1.0000    0.9000    0.8100    0.7290    0.6561    0.5905    0.5314\n",
      "\n",
      "\n"
     ]
    }
   ],
   "source": [
    "y(1) = 1;\n",
    "for n = 1:6\n",
    "    y(n+1) = y(n) - 0.1*y(n)\n",
    "end"
   ]
  },
  {
   "cell_type": "code",
   "execution_count": 3,
   "id": "52079f58-9767-481c-adcd-0ac968f6a4c3",
   "metadata": {},
   "outputs": [
    {
     "name": "stdout",
     "output_type": "stream",
     "text": [
      "\n",
      "y =\n",
      "\n",
      "     1     1     1     1     1     1     1\n",
      "\n",
      "\n"
     ]
    }
   ],
   "source": [
    "y"
   ]
  },
  {
   "cell_type": "markdown",
   "id": "67596c32-320d-4e12-b764-cc97e3967aa9",
   "metadata": {},
   "source": [
    "## If-Else Statements"
   ]
  },
  {
   "cell_type": "code",
   "execution_count": 11,
   "id": "bf5826b0-045b-4154-b2d7-236fcf32aed4",
   "metadata": {},
   "outputs": [
    {
     "name": "stdout",
     "output_type": "stream",
     "text": [
      "\n",
      "x =\n",
      "\n",
      "    -1\n",
      "\n",
      "\n",
      "f =\n",
      "\n",
      "     2\n",
      "\n",
      "\n"
     ]
    }
   ],
   "source": [
    "x = -1\n",
    "if x < 0\n",
    "    f = 1-x\n",
    "else\n",
    "    f = 2*x\n",
    "end\n"
   ]
  }
 ],
 "metadata": {
  "kernelspec": {
   "display_name": "Matlab",
   "language": "matlab",
   "name": "matlab"
  },
  "language_info": {
   "codemirror_mode": "octave",
   "file_extension": ".m",
   "help_links": [
    {
     "text": "MetaKernel Magics",
     "url": "https://metakernel.readthedocs.io/en/latest/source/README.html"
    }
   ],
   "mimetype": "text/x-octave",
   "name": "matlab",
   "version": "0.17.1"
  }
 },
 "nbformat": 4,
 "nbformat_minor": 5
}
